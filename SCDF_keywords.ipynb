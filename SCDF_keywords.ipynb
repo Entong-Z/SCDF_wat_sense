{
 "cells": [
  {
   "cell_type": "code",
   "execution_count": null,
   "metadata": {},
   "outputs": [],
   "source": [
    "pip install spacy==2.3.5"
   ]
  },
  {
   "cell_type": "code",
   "execution_count": null,
   "metadata": {},
   "outputs": [],
   "source": [
    "pip install https://github.com/explosion/spacy-models/releases/download/en_core_web_sm-2.3.1/en_core_web_sm-2.3.1.tar.gz"
   ]
  },
  {
   "cell_type": "code",
   "execution_count": null,
   "metadata": {},
   "outputs": [],
   "source": [
    "pip install gensim"
   ]
  },
  {
   "cell_type": "markdown",
   "metadata": {},
   "source": [
    "### Dataframe"
   ]
  },
  {
   "cell_type": "code",
   "execution_count": 79,
   "metadata": {},
   "outputs": [
    {
     "data": {
      "text/html": [
       "<div>\n",
       "<style scoped>\n",
       "    .dataframe tbody tr th:only-of-type {\n",
       "        vertical-align: middle;\n",
       "    }\n",
       "\n",
       "    .dataframe tbody tr th {\n",
       "        vertical-align: top;\n",
       "    }\n",
       "\n",
       "    .dataframe thead th {\n",
       "        text-align: right;\n",
       "    }\n",
       "</style>\n",
       "<table border=\"1\" class=\"dataframe\">\n",
       "  <thead>\n",
       "    <tr style=\"text-align: right;\">\n",
       "      <th></th>\n",
       "      <th>phone_num</th>\n",
       "      <th>text</th>\n",
       "      <th>keywords</th>\n",
       "      <th>time</th>\n",
       "      <th>predicted_event_ID</th>\n",
       "      <th>action</th>\n",
       "    </tr>\n",
       "  </thead>\n",
       "  <tbody>\n",
       "    <tr>\n",
       "      <th>0</th>\n",
       "      <td>99998888</td>\n",
       "      <td>hello, There's a fire at Bishan</td>\n",
       "      <td>[fire, Bishan]</td>\n",
       "      <td>2021-06-09 19:24:25.229798</td>\n",
       "      <td>1</td>\n",
       "      <td>Emergency</td>\n",
       "    </tr>\n",
       "  </tbody>\n",
       "</table>\n",
       "</div>"
      ],
      "text/plain": [
       "  phone_num                             text        keywords  \\\n",
       "0  99998888  hello, There's a fire at Bishan  [fire, Bishan]   \n",
       "\n",
       "                        time predicted_event_ID     action  \n",
       "0 2021-06-09 19:24:25.229798                  1  Emergency  "
      ]
     },
     "execution_count": 79,
     "metadata": {},
     "output_type": "execute_result"
    }
   ],
   "source": [
    "import pandas as pd\n",
    "from datetime import datetime\n",
    "df = pd.DataFrame(columns = [\"phone_num\", \"text\", \"keywords\", \"time\", \"predicted_event_ID\", \"action\"])\n",
    "df.loc[len(df)] = ([99998888, \"hello, There's a fire at Bishan\", [\"fire\", \"Bishan\"], datetime.now(), 1, \"Emergency\"])\n",
    "df"
   ]
  },
  {
   "cell_type": "code",
   "execution_count": 48,
   "metadata": {},
   "outputs": [
    {
     "name": "stdout",
     "output_type": "stream",
     "text": [
      "0.7745966692414834\n"
     ]
    }
   ],
   "source": [
    "'''\n",
    "from collections import Counter\n",
    "import math\n",
    "\n",
    "counterA = Counter([\"Bishan\", \"fire\", \"Bishan\"])\n",
    "counterB = Counter([\"Bishan\", \"emmergency\", \"fire\"])\n",
    "\n",
    "\n",
    "def counter_cosine_similarity(c1, c2):\n",
    "    terms = set(c1).union(c2)\n",
    "    dotprod = sum(c1.get(k, 0) * c2.get(k, 0) for k in terms)\n",
    "    magA = math.sqrt(sum(c1.get(k, 0)**2 for k in terms))\n",
    "    magB = math.sqrt(sum(c2.get(k, 0)**2 for k in terms))\n",
    "    return dotprod / (magA * magB)\n",
    "\n",
    "print(counter_cosine_similarity(counterA, counterB))\n",
    "'''"
   ]
  },
  {
   "cell_type": "markdown",
   "metadata": {},
   "source": [
    "### Similarity check"
   ]
  },
  {
   "cell_type": "code",
   "execution_count": 53,
   "metadata": {},
   "outputs": [
    {
     "name": "stderr",
     "output_type": "stream",
     "text": [
      "[nltk_data] Downloading package punkt to\n",
      "[nltk_data]     /Users/zhouentong/nltk_data...\n",
      "[nltk_data]   Unzipping tokenizers/punkt.zip.\n"
     ]
    },
    {
     "name": "stdout",
     "output_type": "stream",
     "text": [
      "0.9999999999999998\n",
      "0.7092972666062738\n",
      "0.0\n"
     ]
    },
    {
     "name": "stderr",
     "output_type": "stream",
     "text": [
      "/Users/zhouentong/opt/anaconda3/lib/python3.8/site-packages/sklearn/feature_extraction/text.py:383: UserWarning: Your stop_words may be inconsistent with your preprocessing. Tokenizing the stop words generated tokens ['abov', 'afterward', 'alon', 'alreadi', 'alway', 'ani', 'anoth', 'anyon', 'anyth', 'anywher', 'becam', 'becaus', 'becom', 'befor', 'besid', 'cri', 'describ', 'dure', 'els', 'elsewher', 'empti', 'everi', 'everyon', 'everyth', 'everywher', 'fifti', 'formerli', 'forti', 'ha', 'henc', 'hereaft', 'herebi', 'hi', 'howev', 'hundr', 'inde', 'latterli', 'mani', 'meanwhil', 'moreov', 'mostli', 'nobodi', 'noon', 'noth', 'nowher', 'onc', 'onli', 'otherwis', 'ourselv', 'perhap', 'pleas', 'seriou', 'sever', 'sinc', 'sincer', 'sixti', 'someon', 'someth', 'sometim', 'somewher', 'themselv', 'thenc', 'thereaft', 'therebi', 'therefor', 'thi', 'thu', 'togeth', 'twelv', 'twenti', 'veri', 'wa', 'whatev', 'whenc', 'whenev', 'wherea', 'whereaft', 'wherebi', 'wherev', 'whi', 'yourselv'] not in stop_words.\n",
      "  warnings.warn('Your stop_words may be inconsistent with '\n"
     ]
    }
   ],
   "source": [
    "'''Similarity between two sentences'''\n",
    "import nltk, string\n",
    "from sklearn.feature_extraction.text import TfidfVectorizer\n",
    "\n",
    "nltk.download('punkt') # if necessary...\n",
    "\n",
    "\n",
    "stemmer = nltk.stem.porter.PorterStemmer()\n",
    "remove_punctuation_map = dict((ord(char), None) for char in string.punctuation)\n",
    "\n",
    "def stem_tokens(tokens):\n",
    "    return [stemmer.stem(item) for item in tokens]\n",
    "\n",
    "'''remove punctuation, lowercase, stem'''\n",
    "def normalize(text):\n",
    "    return stem_tokens(nltk.word_tokenize(text.lower().translate(remove_punctuation_map)))\n",
    "\n",
    "vectorizer = TfidfVectorizer(tokenizer=normalize, stop_words='english')\n",
    "\n",
    "def cosine_sim(text1, text2):\n",
    "    tfidf = vectorizer.fit_transform([text1, text2])\n",
    "    return ((tfidf * tfidf.T).A)[0,1]\n"
   ]
  },
  {
   "cell_type": "markdown",
   "metadata": {},
   "source": [
    "### Actual function"
   ]
  },
  {
   "cell_type": "code",
   "execution_count": 78,
   "metadata": {},
   "outputs": [],
   "source": [
    "from datetime import datetime\n",
    "import spacy\n",
    "nlp = spacy.load('en_core_web_sm',disable=['ner','textcat'])\n",
    "\n",
    "#text = open('audio.txt', 'r').read()\n",
    "\n",
    "event_id = 10000\n",
    "def auto_operator(text, phone_num):\n",
    "    time = datetime.now()\n",
    "    \n",
    "    ## identify keywords\n",
    "    doc = nlp(text)\n",
    "    keywords = []\n",
    "    for token in doc:\n",
    "        if token.pos_=='NOUN' or token.pos_ == 'PROPN':\n",
    "            keywords.append(token)\n",
    "    action = \"Emergency\"  \n",
    "    ## similarity check (can change)\n",
    "    global event_id\n",
    "    current_event_id = event_id\n",
    "    for index, row in df.iterrows():\n",
    "        similarity = cosine_sim(row[\"text\"], text)\n",
    "        # change threshold\n",
    "        if similarity > 0.8:\n",
    "            current_event_id = row[\"predicted_event_ID\"]\n",
    "            action = \"auto reply: xxx\"\n",
    "            break\n",
    "    event_id += 1 if current_event_id == event_id else 0\n",
    "    \n",
    "    ## decide on action - fire, rescue, medical, terrorism\n",
    "    \n",
    "    ## repeated calls - auto reply\n",
    "    \n",
    "    ## Store in df\n",
    "    df.loc[len(df)] = ([phone_num, text, keywords, datetime.now(), current_event_id, action])\n",
    "    return action"
   ]
  },
  {
   "cell_type": "markdown",
   "metadata": {},
   "source": [
    "### Test"
   ]
  },
  {
   "cell_type": "code",
   "execution_count": 80,
   "metadata": {},
   "outputs": [
    {
     "data": {
      "text/html": [
       "<div>\n",
       "<style scoped>\n",
       "    .dataframe tbody tr th:only-of-type {\n",
       "        vertical-align: middle;\n",
       "    }\n",
       "\n",
       "    .dataframe tbody tr th {\n",
       "        vertical-align: top;\n",
       "    }\n",
       "\n",
       "    .dataframe thead th {\n",
       "        text-align: right;\n",
       "    }\n",
       "</style>\n",
       "<table border=\"1\" class=\"dataframe\">\n",
       "  <thead>\n",
       "    <tr style=\"text-align: right;\">\n",
       "      <th></th>\n",
       "      <th>phone_num</th>\n",
       "      <th>text</th>\n",
       "      <th>keywords</th>\n",
       "      <th>time</th>\n",
       "      <th>predicted_event_ID</th>\n",
       "      <th>action</th>\n",
       "    </tr>\n",
       "  </thead>\n",
       "  <tbody>\n",
       "    <tr>\n",
       "      <th>0</th>\n",
       "      <td>99998888</td>\n",
       "      <td>hello, There's a fire at Bishan</td>\n",
       "      <td>[fire, Bishan]</td>\n",
       "      <td>2021-06-09 19:24:25.229798</td>\n",
       "      <td>1</td>\n",
       "      <td>Emergency</td>\n",
       "    </tr>\n",
       "    <tr>\n",
       "      <th>1</th>\n",
       "      <td>99999999</td>\n",
       "      <td>I had a fever</td>\n",
       "      <td>[fever]</td>\n",
       "      <td>2021-06-09 19:24:30.068486</td>\n",
       "      <td>10000</td>\n",
       "      <td>Emergency</td>\n",
       "    </tr>\n",
       "  </tbody>\n",
       "</table>\n",
       "</div>"
      ],
      "text/plain": [
       "  phone_num                             text        keywords  \\\n",
       "0  99998888  hello, There's a fire at Bishan  [fire, Bishan]   \n",
       "1  99999999                    I had a fever         [fever]   \n",
       "\n",
       "                        time predicted_event_ID     action  \n",
       "0 2021-06-09 19:24:25.229798                  1  Emergency  \n",
       "1 2021-06-09 19:24:30.068486              10000  Emergency  "
      ]
     },
     "execution_count": 80,
     "metadata": {},
     "output_type": "execute_result"
    }
   ],
   "source": [
    "auto_operator(\"I had a fever\", 99999999)\n",
    "#df = df.drop(1)\n",
    "df"
   ]
  },
  {
   "cell_type": "code",
   "execution_count": 81,
   "metadata": {},
   "outputs": [
    {
     "data": {
      "text/html": [
       "<div>\n",
       "<style scoped>\n",
       "    .dataframe tbody tr th:only-of-type {\n",
       "        vertical-align: middle;\n",
       "    }\n",
       "\n",
       "    .dataframe tbody tr th {\n",
       "        vertical-align: top;\n",
       "    }\n",
       "\n",
       "    .dataframe thead th {\n",
       "        text-align: right;\n",
       "    }\n",
       "</style>\n",
       "<table border=\"1\" class=\"dataframe\">\n",
       "  <thead>\n",
       "    <tr style=\"text-align: right;\">\n",
       "      <th></th>\n",
       "      <th>phone_num</th>\n",
       "      <th>text</th>\n",
       "      <th>keywords</th>\n",
       "      <th>time</th>\n",
       "      <th>predicted_event_ID</th>\n",
       "      <th>action</th>\n",
       "    </tr>\n",
       "  </thead>\n",
       "  <tbody>\n",
       "    <tr>\n",
       "      <th>0</th>\n",
       "      <td>99998888</td>\n",
       "      <td>hello, There's a fire at Bishan</td>\n",
       "      <td>[fire, Bishan]</td>\n",
       "      <td>2021-06-09 19:24:25.229798</td>\n",
       "      <td>1</td>\n",
       "      <td>Emergency</td>\n",
       "    </tr>\n",
       "    <tr>\n",
       "      <th>1</th>\n",
       "      <td>99999999</td>\n",
       "      <td>I had a fever</td>\n",
       "      <td>[fever]</td>\n",
       "      <td>2021-06-09 19:24:30.068486</td>\n",
       "      <td>10000</td>\n",
       "      <td>Emergency</td>\n",
       "    </tr>\n",
       "    <tr>\n",
       "      <th>2</th>\n",
       "      <td>90099999</td>\n",
       "      <td>I was at Utown and I saw an old man fall down</td>\n",
       "      <td>[Utown, man]</td>\n",
       "      <td>2021-06-09 19:24:31.930524</td>\n",
       "      <td>10001</td>\n",
       "      <td>Emergency</td>\n",
       "    </tr>\n",
       "  </tbody>\n",
       "</table>\n",
       "</div>"
      ],
      "text/plain": [
       "  phone_num                                           text        keywords  \\\n",
       "0  99998888                hello, There's a fire at Bishan  [fire, Bishan]   \n",
       "1  99999999                                  I had a fever         [fever]   \n",
       "2  90099999  I was at Utown and I saw an old man fall down    [Utown, man]   \n",
       "\n",
       "                        time predicted_event_ID     action  \n",
       "0 2021-06-09 19:24:25.229798                  1  Emergency  \n",
       "1 2021-06-09 19:24:30.068486              10000  Emergency  \n",
       "2 2021-06-09 19:24:31.930524              10001  Emergency  "
      ]
     },
     "execution_count": 81,
     "metadata": {},
     "output_type": "execute_result"
    }
   ],
   "source": [
    "auto_operator(\"I was at Utown and I saw an old man fall down\", 90099999)\n",
    "df"
   ]
  },
  {
   "cell_type": "code",
   "execution_count": 82,
   "metadata": {},
   "outputs": [
    {
     "data": {
      "text/html": [
       "<div>\n",
       "<style scoped>\n",
       "    .dataframe tbody tr th:only-of-type {\n",
       "        vertical-align: middle;\n",
       "    }\n",
       "\n",
       "    .dataframe tbody tr th {\n",
       "        vertical-align: top;\n",
       "    }\n",
       "\n",
       "    .dataframe thead th {\n",
       "        text-align: right;\n",
       "    }\n",
       "</style>\n",
       "<table border=\"1\" class=\"dataframe\">\n",
       "  <thead>\n",
       "    <tr style=\"text-align: right;\">\n",
       "      <th></th>\n",
       "      <th>phone_num</th>\n",
       "      <th>text</th>\n",
       "      <th>keywords</th>\n",
       "      <th>time</th>\n",
       "      <th>predicted_event_ID</th>\n",
       "      <th>action</th>\n",
       "    </tr>\n",
       "  </thead>\n",
       "  <tbody>\n",
       "    <tr>\n",
       "      <th>0</th>\n",
       "      <td>99998888</td>\n",
       "      <td>hello, There's a fire at Bishan</td>\n",
       "      <td>[fire, Bishan]</td>\n",
       "      <td>2021-06-09 19:24:25.229798</td>\n",
       "      <td>1</td>\n",
       "      <td>Emergency</td>\n",
       "    </tr>\n",
       "    <tr>\n",
       "      <th>1</th>\n",
       "      <td>99999999</td>\n",
       "      <td>I had a fever</td>\n",
       "      <td>[fever]</td>\n",
       "      <td>2021-06-09 19:24:30.068486</td>\n",
       "      <td>10000</td>\n",
       "      <td>Emergency</td>\n",
       "    </tr>\n",
       "    <tr>\n",
       "      <th>2</th>\n",
       "      <td>90099999</td>\n",
       "      <td>I was at Utown and I saw an old man fall down</td>\n",
       "      <td>[Utown, man]</td>\n",
       "      <td>2021-06-09 19:24:31.930524</td>\n",
       "      <td>10001</td>\n",
       "      <td>Emergency</td>\n",
       "    </tr>\n",
       "    <tr>\n",
       "      <th>3</th>\n",
       "      <td>90099999</td>\n",
       "      <td>A old man fell down at uTown, please help!</td>\n",
       "      <td>[man, uTown]</td>\n",
       "      <td>2021-06-09 19:24:33.596706</td>\n",
       "      <td>10002</td>\n",
       "      <td>Emergency</td>\n",
       "    </tr>\n",
       "  </tbody>\n",
       "</table>\n",
       "</div>"
      ],
      "text/plain": [
       "  phone_num                                           text        keywords  \\\n",
       "0  99998888                hello, There's a fire at Bishan  [fire, Bishan]   \n",
       "1  99999999                                  I had a fever         [fever]   \n",
       "2  90099999  I was at Utown and I saw an old man fall down    [Utown, man]   \n",
       "3  90099999     A old man fell down at uTown, please help!    [man, uTown]   \n",
       "\n",
       "                        time predicted_event_ID     action  \n",
       "0 2021-06-09 19:24:25.229798                  1  Emergency  \n",
       "1 2021-06-09 19:24:30.068486              10000  Emergency  \n",
       "2 2021-06-09 19:24:31.930524              10001  Emergency  \n",
       "3 2021-06-09 19:24:33.596706              10002  Emergency  "
      ]
     },
     "execution_count": 82,
     "metadata": {},
     "output_type": "execute_result"
    }
   ],
   "source": [
    "auto_operator(\"A old man fell down at uTown, please help!\", 90099999)\n",
    "df"
   ]
  },
  {
   "cell_type": "code",
   "execution_count": 84,
   "metadata": {},
   "outputs": [
    {
     "data": {
      "text/html": [
       "<div>\n",
       "<style scoped>\n",
       "    .dataframe tbody tr th:only-of-type {\n",
       "        vertical-align: middle;\n",
       "    }\n",
       "\n",
       "    .dataframe tbody tr th {\n",
       "        vertical-align: top;\n",
       "    }\n",
       "\n",
       "    .dataframe thead th {\n",
       "        text-align: right;\n",
       "    }\n",
       "</style>\n",
       "<table border=\"1\" class=\"dataframe\">\n",
       "  <thead>\n",
       "    <tr style=\"text-align: right;\">\n",
       "      <th></th>\n",
       "      <th>phone_num</th>\n",
       "      <th>text</th>\n",
       "      <th>keywords</th>\n",
       "      <th>time</th>\n",
       "      <th>predicted_event_ID</th>\n",
       "      <th>action</th>\n",
       "    </tr>\n",
       "  </thead>\n",
       "  <tbody>\n",
       "    <tr>\n",
       "      <th>0</th>\n",
       "      <td>99998888</td>\n",
       "      <td>hello, There's a fire at Bishan</td>\n",
       "      <td>[fire, Bishan]</td>\n",
       "      <td>2021-06-09 19:24:25.229798</td>\n",
       "      <td>1</td>\n",
       "      <td>Emergency</td>\n",
       "    </tr>\n",
       "    <tr>\n",
       "      <th>1</th>\n",
       "      <td>99999999</td>\n",
       "      <td>I had a fever</td>\n",
       "      <td>[fever]</td>\n",
       "      <td>2021-06-09 19:24:30.068486</td>\n",
       "      <td>10000</td>\n",
       "      <td>Emergency</td>\n",
       "    </tr>\n",
       "    <tr>\n",
       "      <th>2</th>\n",
       "      <td>90099999</td>\n",
       "      <td>I was at Utown and I saw an old man fall down</td>\n",
       "      <td>[Utown, man]</td>\n",
       "      <td>2021-06-09 19:24:31.930524</td>\n",
       "      <td>10001</td>\n",
       "      <td>Emergency</td>\n",
       "    </tr>\n",
       "    <tr>\n",
       "      <th>3</th>\n",
       "      <td>90099999</td>\n",
       "      <td>A old man fell down at uTown, please help!</td>\n",
       "      <td>[man, uTown]</td>\n",
       "      <td>2021-06-09 19:24:33.596706</td>\n",
       "      <td>10002</td>\n",
       "      <td>Emergency</td>\n",
       "    </tr>\n",
       "    <tr>\n",
       "      <th>4</th>\n",
       "      <td>90099999</td>\n",
       "      <td>I saw a old man fell down at uTown, please sen...</td>\n",
       "      <td>[man, uTown]</td>\n",
       "      <td>2021-06-09 19:25:01.989697</td>\n",
       "      <td>10003</td>\n",
       "      <td>Emergency</td>\n",
       "    </tr>\n",
       "    <tr>\n",
       "      <th>5</th>\n",
       "      <td>90099999</td>\n",
       "      <td>I saw a old man fell down at uTown, please help!</td>\n",
       "      <td>[man, uTown]</td>\n",
       "      <td>2021-06-09 19:29:09.784814</td>\n",
       "      <td>10002</td>\n",
       "      <td>auto reply: xxx</td>\n",
       "    </tr>\n",
       "  </tbody>\n",
       "</table>\n",
       "</div>"
      ],
      "text/plain": [
       "  phone_num                                               text  \\\n",
       "0  99998888                    hello, There's a fire at Bishan   \n",
       "1  99999999                                      I had a fever   \n",
       "2  90099999      I was at Utown and I saw an old man fall down   \n",
       "3  90099999         A old man fell down at uTown, please help!   \n",
       "4  90099999  I saw a old man fell down at uTown, please sen...   \n",
       "5  90099999   I saw a old man fell down at uTown, please help!   \n",
       "\n",
       "         keywords                       time predicted_event_ID  \\\n",
       "0  [fire, Bishan] 2021-06-09 19:24:25.229798                  1   \n",
       "1         [fever] 2021-06-09 19:24:30.068486              10000   \n",
       "2    [Utown, man] 2021-06-09 19:24:31.930524              10001   \n",
       "3    [man, uTown] 2021-06-09 19:24:33.596706              10002   \n",
       "4    [man, uTown] 2021-06-09 19:25:01.989697              10003   \n",
       "5    [man, uTown] 2021-06-09 19:29:09.784814              10002   \n",
       "\n",
       "            action  \n",
       "0        Emergency  \n",
       "1        Emergency  \n",
       "2        Emergency  \n",
       "3        Emergency  \n",
       "4        Emergency  \n",
       "5  auto reply: xxx  "
      ]
     },
     "execution_count": 84,
     "metadata": {},
     "output_type": "execute_result"
    }
   ],
   "source": [
    "auto_operator(\"I saw a old man fell down at uTown, please help!\", 90099999)\n",
    "df"
   ]
  },
  {
   "cell_type": "code",
   "execution_count": 70,
   "metadata": {},
   "outputs": [
    {
     "data": {
      "text/plain": [
       "0.29121941856368966"
      ]
     },
     "execution_count": 70,
     "metadata": {},
     "output_type": "execute_result"
    }
   ],
   "source": [
    "cosine_sim(\"A old man fell down at uTown help\", \"I saw an old man fall down\")"
   ]
  },
  {
   "cell_type": "code",
   "execution_count": 76,
   "metadata": {},
   "outputs": [
    {
     "name": "stdout",
     "output_type": "stream",
     "text": [
      "[man, uTown]\n",
      "A -> DET\n",
      "old -> ADJ\n",
      "man -> NOUN\n",
      "fell -> VERB\n",
      "down -> ADP\n",
      "at -> ADP\n",
      "uTown -> PROPN\n",
      ", -> PUNCT\n",
      "please -> INTJ\n",
      "help -> VERB\n",
      "! -> PUNCT\n"
     ]
    }
   ],
   "source": [
    "text = \"A old man fell down at uTown, please help!\"\n",
    "doc = nlp(text)\n",
    "keywords = []\n",
    "for token in doc:\n",
    "    if token.pos_=='NOUN' or token.pos_ == 'PROPN':\n",
    "        keywords.append(token)\n",
    "print(keywords)\n",
    "for token in doc:\n",
    "    print(token.text,'->',token.pos_)"
   ]
  }
 ],
 "metadata": {
  "kernelspec": {
   "display_name": "Python 3",
   "language": "python",
   "name": "python3"
  },
  "language_info": {
   "codemirror_mode": {
    "name": "ipython",
    "version": 3
   },
   "file_extension": ".py",
   "mimetype": "text/x-python",
   "name": "python",
   "nbconvert_exporter": "python",
   "pygments_lexer": "ipython3",
   "version": "3.8.5"
  }
 },
 "nbformat": 4,
 "nbformat_minor": 4
}
